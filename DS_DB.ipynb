{
 "cells": [
  {
   "cell_type": "markdown",
   "id": "a90d0da1",
   "metadata": {},
   "source": [
    "<h1>Cargado de Datasets a BB.DD</h1>"
   ]
  },
  {
   "cell_type": "markdown",
   "id": "ec894bd8",
   "metadata": {},
   "source": [
    "<h2>Sinopsis del programa</h2>\n",
    "<h4>Hare lecturas de diferentes archivos csv y json sobre videojuegos en stream, recomendaciones hacia los juegos y usuarios que los jugaron o escribieron una recomendacion<h4>\n",
    "<p><b>Indices</b></p>\n",
    "<ul>\n",
    "    <li><b>Lectura de archivos</b></li>\n",
    "    <li><b>Conexion a BB.DD</b></li>\n",
    "    <li><b>Definicion de funciones</b></li>\n",
    "    <li><b>Cargado en BB.DD con funciones</b></li>\n",
    "    <li><b>Queris a la BB.DD</b></li>\n",
    "</ul>"
   ]
  },
  {
   "cell_type": "markdown",
   "id": "8f70e315",
   "metadata": {},
   "source": [
    "<h3><u>Imports</u></h3>"
   ]
  },
  {
   "cell_type": "code",
   "execution_count": 1,
   "id": "e1e7eb25",
   "metadata": {},
   "outputs": [],
   "source": [
    "# Imports necesarios para la lectura, tratado y generado de queris\n",
    "import pandas as pd\n",
    "import mysql.connector"
   ]
  },
  {
   "cell_type": "markdown",
   "id": "b91524c6",
   "metadata": {},
   "source": [
    "<h2><u>Funciones con las que trabajaremos</u></h2>"
   ]
  },
  {
   "cell_type": "markdown",
   "id": "a26d3807",
   "metadata": {},
   "source": [
    "<h3><u>Funcion de cargado de archivos</u></h3>"
   ]
  },
  {
   "cell_type": "code",
   "execution_count": 2,
   "id": "3838700b",
   "metadata": {},
   "outputs": [],
   "source": [
    "def carga():\n",
    "    # Lectura de archivo\n",
    "    games1 = pd.read_csv(\"Datasets/games.csv\")\n",
    "    # DataFrame acotado\n",
    "    games2 = games1.head(2000)\n",
    "    # Lectura de archivo\n",
    "    users1 = pd.read_json(\"Datasets/users.json\")\n",
    "    # DataFrame acotado\n",
    "    users2 = users1.head(100000)\n",
    "    # Lectura de archivo\n",
    "    recom1 = pd.read_csv(\"Datasets/recommendations.csv\")\n",
    "    # DataFrame acotado\n",
    "    recom2 = recom1.head(100000)\n",
    "    #return con todos los dataframes\n",
    "    return games1 , games2 ,users1 , users2 , recom1 , recom2\n",
    "    "
   ]
  },
  {
   "cell_type": "markdown",
   "id": "fef326ec",
   "metadata": {},
   "source": [
    "<h3><u>Funcion que genera el objeto de conexion entre python y mysql</u></h3>"
   ]
  },
  {
   "cell_type": "code",
   "execution_count": 3,
   "id": "7045419a",
   "metadata": {},
   "outputs": [],
   "source": [
    "# Aqui crearemos un objeto de conexion que servira como puente entre nuestro programa y la base de datos que definamos \n",
    "# Este objeto es creado utilizando la libreria mysql.connector de mysql\n",
    "# Haciendo un try except nos aseguramos de manejar las excepciones que ocasionen errores devolviendo informacion mas detallada\n",
    "def connect(contraseña):\n",
    "    try:\n",
    "        # Generamos el objeto que creara la conexion con los parametros de nuestra base\n",
    "        db = mysql.connector.connect(user='root',\n",
    "                                    password=f'{contraseña}',\n",
    "                                    host='localhost',\n",
    "                                    database='steam')\n",
    "        return db\n",
    "    # Crearemos excepciones para diferentes casos como:\n",
    "    except mysql.connector.Error as error:\n",
    "        \n",
    "        # Error de acceso denegado a la base de datos por usuaio \n",
    "        if error.errno == mysql.connector.errorcode.ER_ACCESS_DENIED_ERROR:\n",
    "            print(\"Error: Acceso denegado para el usuario.\")\n",
    "        # Error de intento de acceso a una base de datos inexistente\n",
    "        elif error.errno == mysql.connector.errorcode.ER_BAD_DB_ERROR:\n",
    "            print(\"Error: La base de datos no existe.\")\n",
    "        # Error de contraseña incorrecta\n",
    "        elif error.sqlstate == '28000':\n",
    "            print(\"Error: Incorrect password.\")\n",
    "        # Error de conexion generico\n",
    "        else:\n",
    "            print(f\"Error conectando a la base de datos: {error}\")     \n",
    "        return db\n"
   ]
  },
  {
   "cell_type": "markdown",
   "id": "2f22607f",
   "metadata": {},
   "source": [
    "<h3><u>Funciones de cargado de datos a MySQL</u></h3>"
   ]
  },
  {
   "cell_type": "code",
   "execution_count": 4,
   "id": "b79d4f93",
   "metadata": {},
   "outputs": [],
   "source": [
    "# La funcion to string pasa una lista de elementos a unn string separado por comas con todos esos elementos\n",
    "def to_string(cols):\n",
    "    # El return devuelve el join de la lista con \", \" ente elementos\n",
    "    return \", \".join(cols)\n",
    "# La funcion valorise toma como entrada una lista y devuelve una lista de igual tamaño en la que todos los elementos son \"%s\"\n",
    "def valorise(cols):\n",
    "    # Generamos una nueva variable llamada col que es la multiplicacion por la len de cols de la lista [%s]\n",
    "    # En python se pueden multiplicar listas generando listas más grandes con el mismo patron de elementos\n",
    "    col = ['%s']*len(cols)\n",
    "    # Devolvemos la lista nueva\n",
    "    return col\n",
    "# La funcion to_mysql toma como entrada un dataframe y un nombre de tabla y pasa directamente un dataframe entero a la BB.DD   \n",
    "def to_mysql(data,table):\n",
    "    # Generamos un cursor para poder interactuar con la BB.DD\n",
    "    curs = db.cursor()\n",
    "    # Seteamos la validacion del constraint de foreign key a false dado que en una tabla referenciada hay menos datos que \n",
    "    # en la tabla que referencia para evitar erroresd de inserrcion\n",
    "    curs.execute(\"SET FOREIGN_KEY_CHECKS = 0;\")\n",
    "    # Sacamos una lista con todos los valores de las columnas del DataFrame\n",
    "    cols = data.columns.values.tolist()\n",
    "    # Iteramos en el dataframe con iterrows fila por fila\n",
    "    for _, row in data.iterrows():\n",
    "        # Hacemos una lista con todos los elementos de la fila\n",
    "        val = row.to_list()\n",
    "        # Creamos un string con un insert de sql con el nombre de la tabla en la que queremos insertar los datos\n",
    "        # Las columnas a las que queremos afectar y los tipos de valores a sustituir\n",
    "        sql = f\"INSERT INTO {table} ({to_string(cols)}) VALUES ({to_string(valorise(cols))})\"\n",
    "        # Un try except intentara introducir los valores a ser posible\n",
    "        try:\n",
    "            # El execute genera la queri con el sql y el val\n",
    "            curs.execute(sql, val)\n",
    "\t\t# Generaremos excepciones tales que si la consulta esta mal nos explque porque\n",
    "        except Exception as e:\n",
    "            # Nos dice cual ha sido el error\n",
    "            print(f\"Error: {str(e)}\")\n",
    "            # En caso de error, la funcion rollback eliminara todos los cambios que se hayan hecho a la BB.DD\n",
    "            db.rollback()\n",
    "            return\n",
    "    # Haremos un print declarando que la inserccion ha funcionado\n",
    "    print(\"La inserccion ha sido exitosa\")\n",
    "    # Volvemos a setear el checkeo a True\n",
    "    curs.execute(\"SET FOREIGN_KEY_CHECKS = 1;\")\n",
    "    # Haremos un comit para que los cambios se pasen al puente y por ende a la BB.DD\n",
    "    db.commit()\n",
    "    # Cerraremos el cursor\n",
    "    curs.close()\n"
   ]
  },
  {
   "cell_type": "markdown",
   "id": "8760deed",
   "metadata": {},
   "source": [
    "<h3><u>Funciones de Selection</u></h3>"
   ]
  },
  {
   "cell_type": "code",
   "execution_count": 5,
   "id": "4327c819",
   "metadata": {},
   "outputs": [],
   "source": [
    "def get_columns(string):\n",
    "    # Declaramos el inicio de las columnas + 6 dado que select tiene 6 caracteres\n",
    "    ini = string.find(\"SELECT\") + 6\n",
    "    # Declaramos el final dado que solo nos interesan las columnas antes de from\n",
    "    fin = string.find(\"FROM\")\n",
    "    # Hacemos un srip de la parte del string que nos interesa\n",
    "    cols = string[ini:fin].strip()\n",
    "    # Le hacemos un split separado por comas para meterlo a una lista\n",
    "    cols = cols.split(\",\")\n",
    "    # Bucle que recorre toda la lista\n",
    "    # Le quitamos cualquier espacio que pueda tener elemento\n",
    "    cols = [x.strip(' ') for x in cols]\n",
    "    # Devolvemos la lista\n",
    "    return cols\n",
    "def get_table(string):\n",
    "    # Declaramos el inicio de las columnas + 6 dado que select tiene 6 caracteres\n",
    "    ini = string.find(\"FROM\") + 4\n",
    "    # Declaramos el final dado que solo nos interesan las columnas antes de from\n",
    "    fin = ini + 6\n",
    "    # Hacemos un srip de la parte del string que nos interesa\n",
    "    string = string[ini:fin].strip()\n",
    "    # Devuelvo la tabla\n",
    "    return string\n",
    "\n",
    "def get_cols_s(string):\n",
    "    # Llamamos a la funcion get table que nos dara el nombre de la tabla afectada\n",
    "    string = get_table(string)\n",
    "    # Crearemos un string con una queri que nos devolvera informacion sobre las columnas como nombre typo ,etc\n",
    "    sql = \"SHOW COLUMNS FROM {}\".format(string)\n",
    "    # Creamos un cursor\n",
    "    curs = db.cursor()\n",
    "    #Enseñaremos las columnas de la tabla\n",
    "    curs.execute(sql)\n",
    "    # Hacemos una lista con los nombres\n",
    "    cols = [col[0] for col in curs.fetchall()]\n",
    "    # Cerramos el cursor\n",
    "    curs.close()\n",
    "    #Devolvemos la lista\n",
    "    return cols\n",
    "    \n",
    "def selection_query(string):\n",
    "    # Creearemos un cursor\n",
    "    curs = db.cursor()\n",
    "    # Ejecutaremos la query\n",
    "    curs.execute(string)\n",
    "    # Extraeremos todo los datos del cursor\n",
    "    res = curs.fetchall()\n",
    "    # Cerraremos el cursor\n",
    "    curs.close()\n",
    "    # Cogeremos las columnas de la query\n",
    "    cols = get_columns(string)\n",
    "    # Los meteremos a un dataframe\n",
    "    # Si pide todas las columnas habra que hacerlo de forma diferente para que quede elegante\n",
    "    if(cols[0] != \"*\"):\n",
    "        res = pd.DataFrame(data = res, columns =cols )\n",
    "    else:\n",
    "        res = pd.DataFrame(data = res, columns = get_cols_s(string))\n",
    "    #Devolvemos el dataframe\n",
    "    return res"
   ]
  },
  {
   "cell_type": "markdown",
   "id": "f3df8d62",
   "metadata": {},
   "source": [
    "<h3><u>Funciones de Update</u></h3>"
   ]
  },
  {
   "cell_type": "code",
   "execution_count": 6,
   "id": "5eb65500",
   "metadata": {},
   "outputs": [],
   "source": [
    "def get_sql_u(string):\n",
    "     # Declaramos el inicio de las columnas + 6 dado que select tiene 6 caracteres\n",
    "    ini = string.find(\"UPDATE\") + 6\n",
    "    # Declaramos el final dado que solo nos interesan las columnas antes de from\n",
    "    fin = ini + 6\n",
    "    # Hacemos un srip de la parte del string que nos interesa\n",
    "    string = string[ini:fin].strip()\n",
    "    sql = \"SELECT * FROM {}\".format(string)\n",
    "    # Devuelve el sql del queri\n",
    "    return sql\n",
    "def get_new_cols_u(string):\n",
    "    # Declaramos el inicio de las columnas + 6 dado que select tiene 6 caracteres\n",
    "    ini = string.find(\"UPDATE\") + 6\n",
    "    # Declaramos el final dado que solo nos interesan las columnas antes de from\n",
    "    fin = ini + 6\n",
    "    # Hacemos un srip de la parte del string que nos interesa\n",
    "    string = string[ini:fin].strip()\n",
    "    # Crearemos un string con una queri que nos devolvera informacion sobre las columnas como nombre typo ,etc\n",
    "    sql = \"SHOW COLUMNS FROM {}\".format(string)\n",
    "    # Creamos un cursor\n",
    "    curs = db.cursor()\n",
    "    #Enseñaremos las columnas de la tabla\n",
    "    curs.execute(sql)\n",
    "    # Hacemos una lista con los nombres\n",
    "    cols = [col[0] for col in curs.fetchall()]\n",
    "    # Cerramos el cursor\n",
    "    curs.close()\n",
    "    #Devolvemos la lista\n",
    "    return cols\n",
    "    \n",
    "def update_query(string):\n",
    "    # Creearemos un cursor\n",
    "    curs = db.cursor()\n",
    "    # Ejecutaremos la queri\n",
    "    curs.execute(string)\n",
    "    curs.execute(get_sql_u(string))\n",
    "    # Extraeremos todo los datos del cursor\n",
    "    res = curs.fetchall()\n",
    "    # Metemos la tabla a un dataframe\n",
    "    try:\n",
    "        res = pd.DataFrame(data = res, columns = get_new_cols_u(string))\n",
    "    except:\n",
    "        res = pd.DataFrame(data = res)\n",
    "    # Cerraremos el cursor\n",
    "    curs.close()\n",
    "    \n",
    "    return res"
   ]
  },
  {
   "cell_type": "markdown",
   "id": "5bd8fca7",
   "metadata": {},
   "source": [
    "<h3><u>Funciones de Alter</u></h3>"
   ]
  },
  {
   "cell_type": "code",
   "execution_count": 7,
   "id": "5c12c220",
   "metadata": {},
   "outputs": [],
   "source": [
    "def get_sql_a(string):\n",
    "     # Declaramos el inicio de las columnas + 6 dado que select tiene 6 caracteres\n",
    "    ini = string.find(\"TABLE\") + 5\n",
    "    # Declaramos el final dado que solo nos interesan las columnas antes de from\n",
    "    fin = ini + 6\n",
    "    # Hacemos un srip de la parte del string que nos interesa\n",
    "    string = string[ini:fin].strip()\n",
    "    sql = \"SELECT * FROM {}\".format(string)\n",
    "    # Devuelve el sql del queri\n",
    "    return sql\n",
    "\n",
    "def get_new_cols_a(string):\n",
    "    # Declaramos el inicio de las columnas + 6 dado que select tiene 6 caracteres\n",
    "    ini = string.find(\"TABLE\") + 5\n",
    "    # Declaramos el final dado que solo nos interesan las columnas antes de from\n",
    "    fin = ini + 6\n",
    "    # Hacemos un srip de la parte del string que nos interesa\n",
    "    string = string[ini:fin].strip()\n",
    "    # Crearemos un string con una queri que nos devolvera informacion sobre las columnas como nombre typo ,etc\n",
    "    sql = sql = \"SHOW COLUMNS FROM {}\".format(string)\n",
    "    # Creamos un cursor\n",
    "    curs = db.cursor()\n",
    "    #Enseñaremos las columnas de la tabla\n",
    "    curs.execute(sql)\n",
    "    # Hacemos una lista con los nombres\n",
    "    cols = [col[0] for col in curs.fetchall()]\n",
    "    # Cerramos el cursor\n",
    "    curs.close()\n",
    "    #Devolvemos la list\n",
    "    return cols\n",
    "\n",
    "def alter_query(string):\n",
    "    # Creearemos un cursor\n",
    "    curs = db.cursor()\n",
    "    # Le decimos al cursosr que ejecute la orden de no chequear Foreign keys para que no de problemas de borrado\n",
    "    curs.execute(\"SET FOREIGN_KEY_CHECKS = 0;\")\n",
    "    # Ejecutaremos la queri\n",
    "    curs.execute(string)\n",
    "    curs.execute(get_sql_a(string))\n",
    "    # Extraeremos todo los datos del cursor\n",
    "    res = curs.fetchall()\n",
    "    # Metemos la tabla a un dataframe\n",
    "    try:\n",
    "        res = pd.DataFrame(data = res, columns = get_new_cols_a(string))\n",
    "    except:\n",
    "        res = pd.DataFrame(data = res)\n",
    "    # Lo volveremos a reactivar\n",
    "    curs.execute(\"SET FOREIGN_KEY_CHECKS = 1;\")\n",
    "    # Cerraremos el cursor\n",
    "    curs.close()\n",
    "    return res"
   ]
  },
  {
   "cell_type": "markdown",
   "id": "5d9bcf68",
   "metadata": {},
   "source": [
    "<h3><u>Funciones de Borrado</u></h3>"
   ]
  },
  {
   "cell_type": "code",
   "execution_count": 8,
   "id": "ddf0079c",
   "metadata": {},
   "outputs": [],
   "source": [
    "def get_sql_b(string):\n",
    "     # Declaramos el inicio de las columnas + 6 dado que select tiene 6 caracteres\n",
    "    ini = string.find(\"FROM\") + 4\n",
    "    # Declaramos el final dado que solo nos interesan las columnas antes de from\n",
    "    fin = ini + 6\n",
    "    # Hacemos un srip de la parte del string que nos interesa\n",
    "    string = string[ini:fin].strip()\n",
    "    sql = \"SELECT * FROM {}\".format(string)\n",
    "    # Devuelve el sql del queri\n",
    "    return sql\n",
    "\n",
    "def get_new_cols_b(string):\n",
    "    # Declaramos el inicio de las columnas + 6 dado que select tiene 6 caracteres\n",
    "    ini = string.find(\"FROM\") + 4\n",
    "    # Declaramos el final dado que solo nos interesan las columnas antes de from\n",
    "    fin = ini + 6\n",
    "    # Hacemos un srip de la parte del string que nos interesa\n",
    "    string = string[ini:fin].strip()\n",
    "    # Crearemos un string con una queri que nos devolvera informacion sobre las columnas como nombre typo ,etc\n",
    "    sql = sql = \"SHOW COLUMNS FROM {}\".format(string)\n",
    "    # Creamos un cursor\n",
    "    curs = db.cursor()\n",
    "    #Enseñaremos las columnas de la tabla\n",
    "    curs.execute(sql)\n",
    "    # Hacemos una lista con los nombres\n",
    "    cols = [col[0] for col in curs.fetchall()]\n",
    "    # Cerramos el cursor\n",
    "    curs.close()\n",
    "    #Devolvemos la list\n",
    "    return cols\n",
    "\n",
    "def errase_query(string):\n",
    "    # Creearemos un cursor\n",
    "    curs = db.cursor()\n",
    "    # Le decimos al cursosr que ejecute la orden de no chequear Foreign keys para que no de problemas de borrado\n",
    "    curs.execute(\"SET FOREIGN_KEY_CHECKS = 0;\")\n",
    "    # Ejecutaremos la query\n",
    "    curs.execute(string)\n",
    "    curs.execute(get_sql_b(string))\n",
    "    # Extraeremos todo los datos del cursor\n",
    "    res = curs.fetchall()\n",
    "    # Metemos la tabla a un dataframe\n",
    "    try:\n",
    "        res = pd.DataFrame(data = res, columns = get_new_cols_b(string))\n",
    "    except:\n",
    "        res = pd.DataFrame(data = res)\n",
    "    # Volvemos a activar el chequeo\n",
    "    curs.execute(\"SET FOREIGN_KEY_CHECKS = 1;\")\n",
    "    # Cerraremos el cursor\n",
    "    curs.close()\n",
    "    return res"
   ]
  },
  {
   "cell_type": "markdown",
   "id": "d206c5d4",
   "metadata": {},
   "source": [
    "<h2><u>Lectura de Archivos</u></h2>"
   ]
  },
  {
   "cell_type": "markdown",
   "id": "d4930a20",
   "metadata": {},
   "source": [
    "<p><b>Llamarremos a la funcion 'carga' que cargara todos nuestros archivos a dataframes y luego veremos sus columnas con head</b></p>"
   ]
  },
  {
   "cell_type": "code",
   "execution_count": 9,
   "id": "cafeb024",
   "metadata": {},
   "outputs": [],
   "source": [
    "games1 , games2 ,users1 , users2 , recom1 , recom2 = carga()"
   ]
  },
  {
   "cell_type": "code",
   "execution_count": 10,
   "id": "b0615319",
   "metadata": {},
   "outputs": [
    {
     "data": {
      "text/plain": [
       "Index(['app_id', 'title', 'date_release', 'win', 'mac', 'linux', 'rating',\n",
       "       'positive_ratio', 'user_reviews', 'price_final', 'price_original',\n",
       "       'discount', 'steam_deck'],\n",
       "      dtype='object')"
      ]
     },
     "execution_count": 10,
     "metadata": {},
     "output_type": "execute_result"
    }
   ],
   "source": [
    "games1.columns"
   ]
  },
  {
   "cell_type": "code",
   "execution_count": 11,
   "id": "b5a5bcbd",
   "metadata": {},
   "outputs": [
    {
     "data": {
      "text/html": [
       "<div>\n",
       "<style scoped>\n",
       "    .dataframe tbody tr th:only-of-type {\n",
       "        vertical-align: middle;\n",
       "    }\n",
       "\n",
       "    .dataframe tbody tr th {\n",
       "        vertical-align: top;\n",
       "    }\n",
       "\n",
       "    .dataframe thead th {\n",
       "        text-align: right;\n",
       "    }\n",
       "</style>\n",
       "<table border=\"1\" class=\"dataframe\">\n",
       "  <thead>\n",
       "    <tr style=\"text-align: right;\">\n",
       "      <th></th>\n",
       "      <th>user_id</th>\n",
       "      <th>products</th>\n",
       "      <th>reviews</th>\n",
       "    </tr>\n",
       "  </thead>\n",
       "  <tbody>\n",
       "    <tr>\n",
       "      <th>0</th>\n",
       "      <td>4154727</td>\n",
       "      <td>156</td>\n",
       "      <td>1</td>\n",
       "    </tr>\n",
       "    <tr>\n",
       "      <th>1</th>\n",
       "      <td>2637640</td>\n",
       "      <td>329</td>\n",
       "      <td>2</td>\n",
       "    </tr>\n",
       "    <tr>\n",
       "      <th>2</th>\n",
       "      <td>1438551</td>\n",
       "      <td>176</td>\n",
       "      <td>1</td>\n",
       "    </tr>\n",
       "    <tr>\n",
       "      <th>3</th>\n",
       "      <td>1549343</td>\n",
       "      <td>98</td>\n",
       "      <td>2</td>\n",
       "    </tr>\n",
       "    <tr>\n",
       "      <th>4</th>\n",
       "      <td>1712796</td>\n",
       "      <td>144</td>\n",
       "      <td>2</td>\n",
       "    </tr>\n",
       "  </tbody>\n",
       "</table>\n",
       "</div>"
      ],
      "text/plain": [
       "   user_id  products  reviews\n",
       "0  4154727       156        1\n",
       "1  2637640       329        2\n",
       "2  1438551       176        1\n",
       "3  1549343        98        2\n",
       "4  1712796       144        2"
      ]
     },
     "execution_count": 11,
     "metadata": {},
     "output_type": "execute_result"
    }
   ],
   "source": [
    "users1.head()"
   ]
  },
  {
   "cell_type": "code",
   "execution_count": 12,
   "id": "c664f502",
   "metadata": {},
   "outputs": [
    {
     "data": {
      "text/plain": [
       "Index(['app_id', 'helpful', 'funny', 'date_', 'is_recommended', 'hours',\n",
       "       'user_id', 'review_id'],\n",
       "      dtype='object')"
      ]
     },
     "execution_count": 12,
     "metadata": {},
     "output_type": "execute_result"
    }
   ],
   "source": [
    "recom1.columns"
   ]
  },
  {
   "cell_type": "markdown",
   "id": "464ab476",
   "metadata": {},
   "source": [
    "<h3> Ya definidas y terminadas solo queda llamar a la funcion to_mysql e insertarle los parametros de todos los dataframes</h3>\n",
    "<p><b>En esta parte de la practica dado que metemos Dataframes enteros a la BB.DD concluimos con el apartado de Querys de inserccion a la BB.DD dado que la carga de los dataframes no es mas que la inserccion de todas sus rows a las tablas:\n",
    "    <ul>\n",
    "        <li>Carga y Grabacion de DataFrames directamente a  BB.DD</li>\n",
    "    </ul>\n",
    "<i>Ha de notarse que al no estar usando slqalchemy (sqlite) sino el conector propio de mysql no hay funciones como df.to_sql y debe sermanualmente realizada la inserccion</i></b></p>"
   ]
  },
  {
   "cell_type": "markdown",
   "id": "66a1abc3",
   "metadata": {},
   "source": [
    "<h3><u>Conexion a BB.DD</u></h3>"
   ]
  },
  {
   "cell_type": "code",
   "execution_count": 14,
   "id": "858e2f18",
   "metadata": {},
   "outputs": [],
   "source": [
    "# Si vas a ejecutar el programa y vas a conectar con mysql deberas poner tu propia contraseña dado que guardaras el sql en tu local host\n",
    "db = connect(input())"
   ]
  },
  {
   "cell_type": "markdown",
   "id": "6d35ddf2",
   "metadata": {},
   "source": [
    "<h3><u>Cargado en la BB.DD con las funciones</u></h3>"
   ]
  },
  {
   "cell_type": "code",
   "execution_count": 15,
   "id": "d456aa07",
   "metadata": {},
   "outputs": [
    {
     "name": "stdout",
     "output_type": "stream",
     "text": [
      "La inserccion ha sido exitosa\n"
     ]
    }
   ],
   "source": [
    "to_mysql(games1,\"games\")   "
   ]
  },
  {
   "cell_type": "code",
   "execution_count": 16,
   "id": "d1fba7e5",
   "metadata": {},
   "outputs": [
    {
     "name": "stdout",
     "output_type": "stream",
     "text": [
      "La inserccion ha sido exitosa\n"
     ]
    }
   ],
   "source": [
    "to_mysql(users2,\"users\")"
   ]
  },
  {
   "cell_type": "code",
   "execution_count": 17,
   "id": "e23ae1ee",
   "metadata": {},
   "outputs": [
    {
     "name": "stdout",
     "output_type": "stream",
     "text": [
      "La inserccion ha sido exitosa\n"
     ]
    }
   ],
   "source": [
    "to_mysql(recom2,\"recom\")"
   ]
  },
  {
   "cell_type": "code",
   "execution_count": null,
   "id": "90708d5e",
   "metadata": {},
   "outputs": [],
   "source": [
    "db.close()"
   ]
  },
  {
   "cell_type": "markdown",
   "id": "91aa400b",
   "metadata": {},
   "source": [
    "<h3><u>Consultas a la BB.DD</u><h3>\n",
    "<p><b>Una vez ya cargados los datos en la BB.DD podemos empezar a hacer consultas a esta misma</p></b>\n",
    "Haremos consultas del tipo:\n",
    "<ul>\n",
    "\t<li><b>Seleccion</b></li>\n",
    "    <ul>\n",
    "   \t\t<li><b>Seleccion Cruzada</b></li>\n",
    "        <li><b>Consulas del tipo que hay en una tabla que no hay en otra</b></li>\n",
    "    </ul>\n",
    " \t<li><b>Actulizacion</b></li>\n",
    " \t<li><b>Insercion</b></li>\n",
    " \t<li><b>Borrado de datos de manera directa</b></li>\n",
    "</ul>\n",
    "</b></p>"
   ]
  },
  {
   "cell_type": "markdown",
   "id": "5424c6aa",
   "metadata": {},
   "source": [
    "<h3><u>Seleciones</u></h3>"
   ]
  },
  {
   "cell_type": "markdown",
   "id": "1e4bb01c",
   "metadata": {},
   "source": [
    "<p><b>Seleccionaremos toda la inormacion de las primeras 10000 filaes de la tabla Users</b></p>"
   ]
  },
  {
   "cell_type": "code",
   "execution_count": null,
   "id": "9686ac22",
   "metadata": {},
   "outputs": [
    {
     "data": {
      "text/html": [
       "<div>\n",
       "<style scoped>\n",
       "    .dataframe tbody tr th:only-of-type {\n",
       "        vertical-align: middle;\n",
       "    }\n",
       "\n",
       "    .dataframe tbody tr th {\n",
       "        vertical-align: top;\n",
       "    }\n",
       "\n",
       "    .dataframe thead th {\n",
       "        text-align: right;\n",
       "    }\n",
       "</style>\n",
       "<table border=\"1\" class=\"dataframe\">\n",
       "  <thead>\n",
       "    <tr style=\"text-align: right;\">\n",
       "      <th></th>\n",
       "      <th>user_id</th>\n",
       "      <th>products</th>\n",
       "      <th>reviews</th>\n",
       "      <th>help</th>\n",
       "    </tr>\n",
       "  </thead>\n",
       "  <tbody>\n",
       "    <tr>\n",
       "      <th>0</th>\n",
       "      <td>201845</td>\n",
       "      <td>867</td>\n",
       "      <td>5</td>\n",
       "      <td>SI</td>\n",
       "    </tr>\n",
       "    <tr>\n",
       "      <th>1</th>\n",
       "      <td>670866</td>\n",
       "      <td>304</td>\n",
       "      <td>7</td>\n",
       "      <td>SI</td>\n",
       "    </tr>\n",
       "    <tr>\n",
       "      <th>2</th>\n",
       "      <td>1172766</td>\n",
       "      <td>165</td>\n",
       "      <td>4</td>\n",
       "      <td>SI</td>\n",
       "    </tr>\n",
       "    <tr>\n",
       "      <th>3</th>\n",
       "      <td>1659984</td>\n",
       "      <td>1773</td>\n",
       "      <td>4</td>\n",
       "      <td>SI</td>\n",
       "    </tr>\n",
       "    <tr>\n",
       "      <th>4</th>\n",
       "      <td>2031886</td>\n",
       "      <td>298</td>\n",
       "      <td>5</td>\n",
       "      <td>SI</td>\n",
       "    </tr>\n",
       "  </tbody>\n",
       "</table>\n",
       "</div>"
      ],
      "text/plain": [
       "   user_id  products  reviews help\n",
       "0   201845       867        5   SI\n",
       "1   670866       304        7   SI\n",
       "2  1172766       165        4   SI\n",
       "3  1659984      1773        4   SI\n",
       "4  2031886       298        5   SI"
      ]
     },
     "execution_count": 17,
     "metadata": {},
     "output_type": "execute_result"
    }
   ],
   "source": [
    "selection_query(\"SELECT * FROM users LIMIT 1000\").head()"
   ]
  },
  {
   "cell_type": "markdown",
   "id": "1da8ad75",
   "metadata": {},
   "source": [
    "<p><b>Seleccionare informacion relevante para un consumidor interesado en un juego compatible con Windows, Mac y Linux de la tabla Games</b></p>"
   ]
  },
  {
   "cell_type": "code",
   "execution_count": null,
   "id": "64743ec6",
   "metadata": {},
   "outputs": [
    {
     "ename": "ProgrammingError",
     "evalue": "1054 (42S22): Unknown column 'win' in 'where clause'",
     "output_type": "error",
     "traceback": [
      "\u001b[1;31m---------------------------------------------------------------------------\u001b[0m",
      "\u001b[1;31mMySQLInterfaceError\u001b[0m                       Traceback (most recent call last)",
      "\u001b[1;32m~\\anaconda3\\lib\\site-packages\\mysql\\connector\\connection_cext.py\u001b[0m in \u001b[0;36mcmd_query\u001b[1;34m(self, query, raw, buffered, raw_as_string)\u001b[0m\n\u001b[0;32m    607\u001b[0m                 \u001b[0mquery\u001b[0m \u001b[1;33m=\u001b[0m \u001b[0mquery\u001b[0m\u001b[1;33m.\u001b[0m\u001b[0mencode\u001b[0m\u001b[1;33m(\u001b[0m\u001b[1;34m\"utf-8\"\u001b[0m\u001b[1;33m)\u001b[0m\u001b[1;33m\u001b[0m\u001b[1;33m\u001b[0m\u001b[0m\n\u001b[1;32m--> 608\u001b[1;33m             self._cmysql.query(\n\u001b[0m\u001b[0;32m    609\u001b[0m                 \u001b[0mquery\u001b[0m\u001b[1;33m,\u001b[0m\u001b[1;33m\u001b[0m\u001b[1;33m\u001b[0m\u001b[0m\n",
      "\u001b[1;31mMySQLInterfaceError\u001b[0m: Unknown column 'win' in 'where clause'",
      "\nThe above exception was the direct cause of the following exception:\n",
      "\u001b[1;31mProgrammingError\u001b[0m                          Traceback (most recent call last)",
      "\u001b[1;32m~\\AppData\\Local\\Temp/ipykernel_22472/2671714771.py\u001b[0m in \u001b[0;36m<module>\u001b[1;34m\u001b[0m\n\u001b[1;32m----> 1\u001b[1;33m \u001b[0mselection_query\u001b[0m\u001b[1;33m(\u001b[0m\u001b[1;34m\"SELECT title, date_release, positive_ratio, user_reviews, price_final FROM games WHERE win = 1 AND mac = 0 AND linux = 1 GROUP BY positive_ratio ORDER BY price_final\"\u001b[0m\u001b[1;33m)\u001b[0m\u001b[1;33m.\u001b[0m\u001b[0mhead\u001b[0m\u001b[1;33m(\u001b[0m\u001b[1;33m)\u001b[0m\u001b[1;33m\u001b[0m\u001b[1;33m\u001b[0m\u001b[0m\n\u001b[0m",
      "\u001b[1;32m~\\AppData\\Local\\Temp/ipykernel_22472/2639463851.py\u001b[0m in \u001b[0;36mselection_query\u001b[1;34m(string)\u001b[0m\n\u001b[0;32m     43\u001b[0m     \u001b[0mcurs\u001b[0m \u001b[1;33m=\u001b[0m \u001b[0mdb\u001b[0m\u001b[1;33m.\u001b[0m\u001b[0mcursor\u001b[0m\u001b[1;33m(\u001b[0m\u001b[1;33m)\u001b[0m\u001b[1;33m\u001b[0m\u001b[1;33m\u001b[0m\u001b[0m\n\u001b[0;32m     44\u001b[0m     \u001b[1;31m# Ejecutaremos la query\u001b[0m\u001b[1;33m\u001b[0m\u001b[1;33m\u001b[0m\u001b[0m\n\u001b[1;32m---> 45\u001b[1;33m     \u001b[0mcurs\u001b[0m\u001b[1;33m.\u001b[0m\u001b[0mexecute\u001b[0m\u001b[1;33m(\u001b[0m\u001b[0mstring\u001b[0m\u001b[1;33m)\u001b[0m\u001b[1;33m\u001b[0m\u001b[1;33m\u001b[0m\u001b[0m\n\u001b[0m\u001b[0;32m     46\u001b[0m     \u001b[1;31m# Extraeremos todo los datos del cursor\u001b[0m\u001b[1;33m\u001b[0m\u001b[1;33m\u001b[0m\u001b[0m\n\u001b[0;32m     47\u001b[0m     \u001b[0mres\u001b[0m \u001b[1;33m=\u001b[0m \u001b[0mcurs\u001b[0m\u001b[1;33m.\u001b[0m\u001b[0mfetchall\u001b[0m\u001b[1;33m(\u001b[0m\u001b[1;33m)\u001b[0m\u001b[1;33m\u001b[0m\u001b[1;33m\u001b[0m\u001b[0m\n",
      "\u001b[1;32m~\\anaconda3\\lib\\site-packages\\mysql\\connector\\cursor_cext.py\u001b[0m in \u001b[0;36mexecute\u001b[1;34m(self, operation, params, multi)\u001b[0m\n\u001b[0;32m    328\u001b[0m \u001b[1;33m\u001b[0m\u001b[0m\n\u001b[0;32m    329\u001b[0m         \u001b[1;32mtry\u001b[0m\u001b[1;33m:\u001b[0m\u001b[1;33m\u001b[0m\u001b[1;33m\u001b[0m\u001b[0m\n\u001b[1;32m--> 330\u001b[1;33m             result = self._cnx.cmd_query(\n\u001b[0m\u001b[0;32m    331\u001b[0m                 \u001b[0mstmt\u001b[0m\u001b[1;33m,\u001b[0m\u001b[1;33m\u001b[0m\u001b[1;33m\u001b[0m\u001b[0m\n\u001b[0;32m    332\u001b[0m                 \u001b[0mraw\u001b[0m\u001b[1;33m=\u001b[0m\u001b[0mself\u001b[0m\u001b[1;33m.\u001b[0m\u001b[0m_raw\u001b[0m\u001b[1;33m,\u001b[0m\u001b[1;33m\u001b[0m\u001b[1;33m\u001b[0m\u001b[0m\n",
      "\u001b[1;32m~\\anaconda3\\lib\\site-packages\\mysql\\connector\\connection_cext.py\u001b[0m in \u001b[0;36mcmd_query\u001b[1;34m(self, query, raw, buffered, raw_as_string)\u001b[0m\n\u001b[0;32m    614\u001b[0m             )\n\u001b[0;32m    615\u001b[0m         \u001b[1;32mexcept\u001b[0m \u001b[0mMySQLInterfaceError\u001b[0m \u001b[1;32mas\u001b[0m \u001b[0merr\u001b[0m\u001b[1;33m:\u001b[0m\u001b[1;33m\u001b[0m\u001b[1;33m\u001b[0m\u001b[0m\n\u001b[1;32m--> 616\u001b[1;33m             raise get_mysql_exception(\n\u001b[0m\u001b[0;32m    617\u001b[0m                 \u001b[0merr\u001b[0m\u001b[1;33m.\u001b[0m\u001b[0merrno\u001b[0m\u001b[1;33m,\u001b[0m \u001b[0mmsg\u001b[0m\u001b[1;33m=\u001b[0m\u001b[0merr\u001b[0m\u001b[1;33m.\u001b[0m\u001b[0mmsg\u001b[0m\u001b[1;33m,\u001b[0m \u001b[0msqlstate\u001b[0m\u001b[1;33m=\u001b[0m\u001b[0merr\u001b[0m\u001b[1;33m.\u001b[0m\u001b[0msqlstate\u001b[0m\u001b[1;33m\u001b[0m\u001b[1;33m\u001b[0m\u001b[0m\n\u001b[0;32m    618\u001b[0m             ) from err\n",
      "\u001b[1;31mProgrammingError\u001b[0m: 1054 (42S22): Unknown column 'win' in 'where clause'"
     ]
    }
   ],
   "source": [
    "selection_query(\"SELECT title, date_release, positive_ratio, user_reviews, price_final FROM games WHERE win = 1 AND mac = 0 AND linux = 1 GROUP BY positive_ratio ORDER BY price_final\").head()"
   ]
  },
  {
   "cell_type": "markdown",
   "id": "e3ad05c4",
   "metadata": {},
   "source": [
    "<p><b>Seleccionamos informacion entre dos tablas recom y users para ver usuarios que escribieron reseñas sobre un juego, cuantos juegos tiene el usuario, cuantas reseñas ha hecho, cuan buena o divertida fue la recomendacion y cuanto tiempo jugo al juego antes de hacer ñla recomendacion. Con esto podemos filtras de buena manera cuan rigurosaas o buenas son las recomendaciones dependiendo de muchos factores </b></p>"
   ]
  },
  {
   "cell_type": "code",
   "execution_count": null,
   "id": "28feaab3",
   "metadata": {},
   "outputs": [],
   "source": [
    "selection_query(\"SELECT users.user_id, users.products, users.reviews, recom.review_id, recom.hours, recom.helpful, recom.funny FROM users JOIN recom ON users.user_id = recom.user_id WHERE users.user_id = recom.user_id GROUP BY users.reviews ORDER BY recom.helpful\").head()"
   ]
  },
  {
   "cell_type": "markdown",
   "id": "c94d616b",
   "metadata": {},
   "source": [
    "<p><b>Selecionaremos informacion de la tabla de recomendaciones en las que hayan sido escritas por un usuario registrado en \n",
    "   nuestros datasets</b></p>"
   ]
  },
  {
   "cell_type": "code",
   "execution_count": null,
   "id": "d0825b42",
   "metadata": {},
   "outputs": [],
   "source": [
    "selection_query(\"SELECT recom.user_id , review_id , helpful , funny FROM recom RIGHT JOIN users ON recom.user_id = users.user_id GROUP BY recom.user_id;\").head()"
   ]
  },
  {
   "cell_type": "markdown",
   "id": "4744dd73",
   "metadata": {},
   "source": [
    "<p><b>Seleccionaremos todos los juegos de games que no tengan una review en recom</b></p>"
   ]
  },
  {
   "cell_type": "code",
   "execution_count": null,
   "id": "33d78f18",
   "metadata": {},
   "outputs": [],
   "source": [
    "selection_query(\"SELECT games.title, games.app_id FROM games WHERE games.app_id NOT IN (SELECT recom.app_id FROM recom) ORDER BY games.title\").head()"
   ]
  },
  {
   "cell_type": "markdown",
   "id": "286dffce",
   "metadata": {},
   "source": [
    "<h3><u>Actualización</u></h3>"
   ]
  },
  {
   "cell_type": "markdown",
   "id": "2de28448",
   "metadata": {},
   "source": [
    "<p><b>Actualizaremos la tabla recom para que donde funny sea > que 5 lo buena que sea la respuesta se ponga automaticamente en 100 </b></p>"
   ]
  },
  {
   "cell_type": "code",
   "execution_count": null,
   "id": "0bbfda1e",
   "metadata": {},
   "outputs": [],
   "source": [
    "update_query(\"UPDATE recom SET helpful = 100 WHERE funny > 5\").head()"
   ]
  },
  {
   "cell_type": "markdown",
   "id": "916cdf5b",
   "metadata": {},
   "source": [
    "<p><b>Actializaremos la tabla para que si una review tiene 300 horas o mas de juego is_recomendes sea igual a 5</b></p>"
   ]
  },
  {
   "cell_type": "code",
   "execution_count": null,
   "id": "66553882",
   "metadata": {},
   "outputs": [],
   "source": [
    "update_query(\"UPDATE recom SET is_recommended = 5 WHERE hours >= 300\").head()"
   ]
  },
  {
   "cell_type": "markdown",
   "id": "28d37e8e",
   "metadata": {},
   "source": [
    "<p><b>Hare un update a users creando una nueva columna que pondra \"si\" si una review que el usuario haya hecho ha sido muy util o helpful >= 10, y pondra no si no lo ha sido</b></p>"
   ]
  },
  {
   "cell_type": "code",
   "execution_count": null,
   "id": "4a7dc8e8",
   "metadata": {},
   "outputs": [],
   "source": [
    "alter_query(\"ALTER TABLE users ADD column help varchar(2)\")"
   ]
  },
  {
   "cell_type": "code",
   "execution_count": null,
   "id": "c3cc493b",
   "metadata": {},
   "outputs": [],
   "source": [
    "update_query(\"UPDATE users SET help = (CASE WHEN user_id IN ( SELECT user_id FROM recom WHERE helpful >= 11 AND hours >20) THEN 'SI' ELSE 'NO' END);\").head()"
   ]
  },
  {
   "cell_type": "markdown",
   "id": "a70dc1e2",
   "metadata": {},
   "source": [
    "<h3><u>Borrado de datos de manera directa</u></h3>"
   ]
  },
  {
   "cell_type": "markdown",
   "id": "f969d534",
   "metadata": {},
   "source": [
    "<p><b>Eliminado de partes de la tabla de usiarios donde su contribucion no ha sido suficientemente util es decir help = no o que no tienen reviews suficientes o reviews < 4 </b></p>"
   ]
  },
  {
   "cell_type": "code",
   "execution_count": null,
   "id": "29a63670",
   "metadata": {},
   "outputs": [],
   "source": [
    "errase_query(\"DELETE FROM users WHERE (help = 'no' OR reviews < 4)\"  )"
   ]
  },
  {
   "cell_type": "markdown",
   "id": "2b6c70ed",
   "metadata": {},
   "source": [
    "<p><b>Eliminacion de columnas enteras de sistemas soportados para las apps de la tabla games</b></p>"
   ]
  },
  {
   "cell_type": "code",
   "execution_count": null,
   "id": "0c6be84e",
   "metadata": {},
   "outputs": [],
   "source": [
    "alter_query(\"ALTER TABLE games DROP COLUMN win, DROP COLUMN mac, DROP COLUMN linux;\").head()"
   ]
  }
 ],
 "metadata": {
  "kernelspec": {
   "display_name": "Python 3 (ipykernel)",
   "language": "python",
   "name": "python3"
  },
  "language_info": {
   "codemirror_mode": {
    "name": "ipython",
    "version": 3
   },
   "file_extension": ".py",
   "mimetype": "text/x-python",
   "name": "python",
   "nbconvert_exporter": "python",
   "pygments_lexer": "ipython3",
   "version": "3.9.7"
  }
 },
 "nbformat": 4,
 "nbformat_minor": 5
}
